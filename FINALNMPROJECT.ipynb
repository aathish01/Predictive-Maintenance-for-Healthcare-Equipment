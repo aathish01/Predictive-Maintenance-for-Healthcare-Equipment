{
  "nbformat": 4,
  "nbformat_minor": 0,
  "metadata": {
    "colab": {
      "provenance": []
    },
    "kernelspec": {
      "name": "python3",
      "display_name": "Python 3"
    },
    "language_info": {
      "name": "python"
    }
  },
  "cells": [
    {
      "cell_type": "code",
      "execution_count": null,
      "metadata": {
        "colab": {
          "base_uri": "https://localhost:8080/"
        },
        "id": "Zac_d9paItJL",
        "outputId": "1c02b002-ec81-4c7c-e558-0538c500e1bd"
      },
      "outputs": [
        {
          "output_type": "stream",
          "name": "stdout",
          "text": [
            "Dataset generated and saved to 'healthcare_equipment_maintenance_data.csv'.\n"
          ]
        }
      ],
      "source": [
        "import numpy as np\n",
        "import pandas as pd\n",
        "import random\n",
        "from datetime import datetime, timedelta\n",
        "\n",
        "# Set random seed for reproducibility\n",
        "np.random.seed(42)\n",
        "\n",
        "# Parameters\n",
        "num_records = 1000\n",
        "num_devices = 50\n",
        "start_date = datetime(2022, 1, 1)\n",
        "end_date = datetime(2024, 1, 1)\n",
        "\n",
        "# Generate device IDs\n",
        "device_ids = [f\"device_{i+1}\" for i in range(num_devices)]\n",
        "\n",
        "# Generate random timestamps within the given range\n",
        "def generate_random_timestamps(n, start_date, end_date):\n",
        "    time_diff = end_date - start_date\n",
        "    random_dates = [start_date + timedelta(days=random.uniform(0, time_diff.days)) for _ in range(n)]\n",
        "    return random_dates\n",
        "\n",
        "# Generate the dataset\n",
        "data = []\n",
        "for _ in range(num_records):\n",
        "    device_id = random.choice(device_ids)\n",
        "    timestamp = random.choice(generate_random_timestamps(1, start_date, end_date))\n",
        "    usage_hours = np.random.uniform(0, 24)\n",
        "    temperature = np.random.uniform(15, 35)\n",
        "    humidity = np.random.uniform(20, 80)\n",
        "    vibration = np.random.uniform(0, 1)\n",
        "    error_rate = np.random.uniform(0, 0.05)\n",
        "    maintenance_needed = np.random.choice([0, 1], p=[0.95, 0.05])\n",
        "\n",
        "    data.append([device_id, timestamp, usage_hours, temperature, humidity, vibration, error_rate, maintenance_needed])\n",
        "\n",
        "# Create DataFrame\n",
        "columns = [\"DeviceID\", \"Timestamp\", \"UsageHours\", \"Temperature\", \"Humidity\", \"Vibration\", \"ErrorRate\", \"MaintenanceNeeded\"]\n",
        "df = pd.DataFrame(data, columns=columns)\n",
        "\n",
        "# Sort by Timestamp for better readability\n",
        "df.sort_values(by=\"Timestamp\", inplace=True)\n",
        "\n",
        "# Save to CSV\n",
        "df.to_csv(\"healthcare_equipment_maintenance_data.csv\", index=False)\n",
        "\n",
        "print(\"Dataset generated and saved to 'healthcare_equipment_maintenance_data.csv'.\")\n"
      ]
    },
    {
      "cell_type": "code",
      "source": [
        "import pandas as pd\n",
        "from sklearn.model_selection import train_test_split\n",
        "from sklearn.preprocessing import StandardScaler\n",
        "from sklearn.ensemble import RandomForestClassifier\n",
        "from sklearn.metrics import classification_report, accuracy_score, confusion_matrix\n",
        "import matplotlib.pyplot as plt\n",
        "import seaborn as sns\n",
        "\n",
        "import joblib\n",
        "import smtplib\n",
        "from email.mime.text import MIMEText\n",
        "from email.mime.multipart import MIMEMultipart\n",
        "\n",
        "# Load the dataset\n",
        "data = pd.read_csv('/content/healthcare_equipment_maintenance_data (2).csv')\n",
        "\n",
        "# Display the first few rows of the dataset\n",
        "print(data.head())\n",
        "\n",
        "# Select features and target variable\n",
        "features = data[['UsageHours', 'Temperature', 'Humidity', 'Vibration', 'ErrorRate']]\n",
        "target = data['MaintenanceNeeded']\n",
        "\n",
        "# Split the data into training and testing sets\n",
        "X_train, X_test, y_train, y_test = train_test_split(features, target, test_size=0.2, random_state=42)\n",
        "\n",
        "# Standardize the feature values\n",
        "scaler = StandardScaler()\n",
        "X_train = scaler.fit_transform(X_train)\n",
        "X_test = scaler.transform(X_test)\n",
        "\n",
        "# Initialize the model\n",
        "model = RandomForestClassifier(n_estimators=100, random_state=42)\n",
        "\n",
        "# Train the model\n",
        "model.fit(X_train, y_train)\n",
        "\n",
        "# Make predictions\n",
        "y_pred = model.predict(X_test)\n",
        "\n",
        "# Evaluate the model\n",
        "print('Accuracy:', accuracy_score(y_test, y_pred))\n",
        "print(classification_report(y_test, y_pred))\n",
        "\n",
        "# Feature Importance Visualization\n",
        "feature_importances = model.feature_importances_\n",
        "feature_names = features.columns\n",
        "\n",
        "# Plot feature importances\n",
        "plt.figure(figsize=(10, 6))\n",
        "plt.barh(feature_names, feature_importances, color='b', align='center')\n",
        "plt.xlabel('Feature Importance')\n",
        "plt.title('Feature Importance in Predictive Maintenance Model')\n",
        "plt.show()\n",
        "\n",
        "# Confusion Matrix Visualization\n",
        "cm = confusion_matrix(y_test, y_pred)\n",
        "\n",
        "plt.figure(figsize=(8, 6))\n",
        "sns.heatmap(cm, annot=True, fmt='d', cmap='Blues')\n",
        "plt.xlabel('Predicted')\n",
        "plt.ylabel('Actual')\n",
        "plt.title('Confusion Matrix')\n",
        "plt.show()\n",
        "\n",
        "# Save the model for future use\n",
        "joblib.dump(model, 'predictive_maintenance_model.pkl')\n",
        "\n",
        "# Load the model (example for deployment)\n",
        "model = joblib.load('predictive_maintenance_model.pkl')\n",
        "\n",
        "# Load the new data for prediction\n",
        "new_data = pd.read_csv('/content/healthcare_equipment_maintenance_data (2).csv')\n",
        "\n",
        "# Display the first few rows of the new dataset to verify\n",
        "print(new_data.head())\n",
        "\n",
        "# Select features for the new data\n",
        "new_features = new_data[['UsageHours', 'Temperature', 'Humidity', 'Vibration', 'ErrorRate']]\n",
        "\n",
        "# Standardize the feature values\n",
        "new_features_scaled = scaler.transform(new_features)\n",
        "\n",
        "# Make predictions on the new data\n",
        "new_predictions = model.predict(new_features_scaled)\n",
        "\n",
        "# Check for machines that need maintenance\n",
        "maintenance_needed_indices = new_data[new_predictions == 1].index\n",
        "\n",
        "if not maintenance_needed_indices.empty:\n",
        "    # Notify the maintenance team\n",
        "    def send_email(device_ids):\n",
        "        sender_email = \"aathish023@gmail.com\"\n",
        "        receiver_email = \"yamunaselvam1831@gmail.com\"\n",
        "        password = \" iuer kkoo cxta qcxr\"\n",
        "        smtp_server = \"smtp.gmail.com\"  # Update with your SMTP server\n",
        "        smtp_port = 587  # Update with your SMTP port if different\n",
        "\n",
        "        subject = \"Machine Maintenance Alert\"\n",
        "        body = f\"The following devices need maintenance:\\n\\n{device_ids}\"\n",
        "\n",
        "        msg = MIMEMultipart()\n",
        "        msg['From'] = sender_email\n",
        "        msg['To'] = receiver_email\n",
        "        msg['Subject'] = subject\n",
        "\n",
        "        msg.attach(MIMEText(body, 'plain'))\n",
        "\n",
        "        try:\n",
        "            server = smtplib.SMTP(smtp_server, smtp_port)\n",
        "            server.starttls()\n",
        "            server.login(sender_email, password)\n",
        "            text = msg.as_string()\n",
        "            server.sendmail(sender_email, receiver_email, text)\n",
        "            server.quit()\n",
        "            print(\"Email sent successfully.\")\n",
        "        except smtplib.SMTPException as e:\n",
        "            print(f\"Failed to send email. SMTPException: {e}\")\n",
        "        except Exception as e:\n",
        "            print(f\"Failed to send email. Error: {e}\")\n",
        "\n",
        "    device_ids = new_data.loc[maintenance_needed_indices, 'DeviceID'].tolist()\n",
        "    send_email(device_ids)\n",
        "else:\n",
        "    print(\"No maintenance needed for any devices at this moment.\")\n"
      ],
      "metadata": {
        "colab": {
          "base_uri": "https://localhost:8080/",
          "height": 1000
        },
        "id": "g_rzon6IExsy",
        "outputId": "dbd1ac51-3176-44c6-d40d-0d3f5a7223a5"
      },
      "execution_count": null,
      "outputs": [
        {
          "output_type": "stream",
          "name": "stdout",
          "text": [
            "    DeviceID Timestamp  UsageHours  Temperature   Humidity  Vibration  \\\n",
            "0  device_34   23:03.4    0.608418    34.252968  70.158807   0.695974   \n",
            "1  device_33   25:26.8    7.230366    26.967150  37.834268   0.299919   \n",
            "2  device_39   30:16.6   16.131253    30.232392  34.258253   0.728216   \n",
            "3  device_35   07:54.4   10.012642    18.204512  30.256184   0.418145   \n",
            "4  device_16   58:28.4   13.935485    33.718745  60.335041   0.481278   \n",
            "\n",
            "   ErrorRate  MaintenanceNeeded  \n",
            "0   0.020448                  0  \n",
            "1   0.037160                  0  \n",
            "2   0.018389                  0  \n",
            "3   0.037864                  0  \n",
            "4   0.040484                  1  \n",
            "Accuracy: 0.945\n",
            "              precision    recall  f1-score   support\n",
            "\n",
            "           0       0.94      1.00      0.97       189\n",
            "           1       0.00      0.00      0.00        11\n",
            "\n",
            "    accuracy                           0.94       200\n",
            "   macro avg       0.47      0.50      0.49       200\n",
            "weighted avg       0.89      0.94      0.92       200\n",
            "\n"
          ]
        },
        {
          "output_type": "stream",
          "name": "stderr",
          "text": [
            "/usr/local/lib/python3.10/dist-packages/sklearn/metrics/_classification.py:1344: UndefinedMetricWarning: Precision and F-score are ill-defined and being set to 0.0 in labels with no predicted samples. Use `zero_division` parameter to control this behavior.\n",
            "  _warn_prf(average, modifier, msg_start, len(result))\n",
            "/usr/local/lib/python3.10/dist-packages/sklearn/metrics/_classification.py:1344: UndefinedMetricWarning: Precision and F-score are ill-defined and being set to 0.0 in labels with no predicted samples. Use `zero_division` parameter to control this behavior.\n",
            "  _warn_prf(average, modifier, msg_start, len(result))\n",
            "/usr/local/lib/python3.10/dist-packages/sklearn/metrics/_classification.py:1344: UndefinedMetricWarning: Precision and F-score are ill-defined and being set to 0.0 in labels with no predicted samples. Use `zero_division` parameter to control this behavior.\n",
            "  _warn_prf(average, modifier, msg_start, len(result))\n"
          ]
        },
        {
          "output_type": "display_data",
          "data": {
            "text/plain": [
              "<Figure size 1000x600 with 1 Axes>"
            ],
            "image/png": "[encoded data removed]"
          },
          "metadata": {}
        },
        {
          "output_type": "display_data",
          "data": {
            "text/plain": [
              "<Figure size 800x600 with 2 Axes>"
            ],
            "image/png": "[encoded data removed]"
          },
          "metadata": {}
        },
        {
          "output_type": "stream",
          "name": "stdout",
          "text": [
            "    DeviceID Timestamp  UsageHours  Temperature   Humidity  Vibration  \\\n",
            "0  device_34   23:03.4    0.608418    34.252968  70.158807   0.695974   \n",
            "1  device_33   25:26.8    7.230366    26.967150  37.834268   0.299919   \n",
            "2  device_39   30:16.6   16.131253    30.232392  34.258253   0.728216   \n",
            "3  device_35   07:54.4   10.012642    18.204512  30.256184   0.418145   \n",
            "4  device_16   58:28.4   13.935485    33.718745  60.335041   0.481278   \n",
            "\n",
            "   ErrorRate  MaintenanceNeeded  \n",
            "0   0.020448                  0  \n",
            "1   0.037160                  0  \n",
            "2   0.018389                  0  \n",
            "3   0.037864                  0  \n",
            "4   0.040484                  1  \n",
            "Email sent successfully.\n"
          ]
        }
      ]
    },
    {
      "cell_type": "code",
      "source": [],
      "metadata": {
        "id": "bnabwTSPTR-p"
      },
      "execution_count": null,
      "outputs": []
    }
  ]
}